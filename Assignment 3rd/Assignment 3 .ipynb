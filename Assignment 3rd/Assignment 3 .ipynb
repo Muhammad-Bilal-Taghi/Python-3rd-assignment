{
 "cells": [
  {
   "cell_type": "code",
   "execution_count": 1,
   "id": "dd6c5266",
   "metadata": {
    "scrolled": true
   },
   "outputs": [
    {
     "name": "stdout",
     "output_type": "stream",
     "text": [
      "Twinkle,twinkle little star, \n",
      "        How I wonder what you are! \n",
      "                Up above the world so high, \n",
      "                 Like a diamond in the sky.  \n",
      "Twinkle,twinkle,little star, \n",
      "        How I wonder what you are\n"
     ]
    }
   ],
   "source": [
    "#1#\n",
    "print(\"Twinkle,twinkle little star, \\n        How I wonder what you are! \\n                Up above the world so high, \\n                 Like a diamond in the sky.  \\nTwinkle,twinkle,little star, \\n        How I wonder what you are\")\n",
    "     \n"
   ]
  },
  {
   "cell_type": "code",
   "execution_count": 2,
   "id": "35a63148",
   "metadata": {},
   "outputs": [
    {
     "name": "stdout",
     "output_type": "stream",
     "text": [
      "Python version\n",
      "3.8.8 (default, Apr 13 2021, 15:08:07) [MSC v.1916 32 bit (Intel)]\n",
      "Version info.\n",
      "sys.version_info(major=3, minor=8, micro=8, releaselevel='final', serial=0)\n"
     ]
    }
   ],
   "source": [
    "#2#\n",
    "import sys\n",
    "print(\"Python version\")\n",
    "print (sys.version)\n",
    "print(\"Version info.\")\n",
    "print (sys.version_info)"
   ]
  },
  {
   "cell_type": "code",
   "execution_count": 6,
   "id": "2764ed24",
   "metadata": {},
   "outputs": [
    {
     "name": "stdout",
     "output_type": "stream",
     "text": [
      "Current date and time : \n",
      "2021-10-23 19:34:31\n"
     ]
    }
   ],
   "source": [
    "#3#\n",
    "now= datetime.datetime.now()\n",
    "print (\"Current date and time : \")\n",
    "print (now.strftime(\"%Y-%m-%d %H:%M:%S\"))"
   ]
  },
  {
   "cell_type": "code",
   "execution_count": 17,
   "id": "26792077",
   "metadata": {},
   "outputs": [
    {
     "name": "stdout",
     "output_type": "stream",
     "text": [
      "Input the radius of the circle 1.0\n",
      "The area of the circle with radius 1.0 is 3.141592653589793\n"
     ]
    }
   ],
   "source": [
    "#4#\n",
    "from math import pi \n",
    "r = float(input(\"Input the radius of the circle \"))\n",
    "print (\"The area of the circle with radius \" + str(r) + \" is \" + str(pi * r**2))"
   ]
  },
  {
   "cell_type": "code",
   "execution_count": 19,
   "id": "b0a2ef6c",
   "metadata": {},
   "outputs": [
    {
     "name": "stdout",
     "output_type": "stream",
     "text": [
      "Input your first name:Junaid \n",
      "Input your last name:Baghdadi\n",
      "Baghdadi Junaid \n"
     ]
    }
   ],
   "source": [
    "#5#\n",
    "firstname = input(\"Input your first name:\")\n",
    "lastname = input(\"Input your last name:\")\n",
    "print (lastname + \" \" + firstname)"
   ]
  },
  {
   "cell_type": "code",
   "execution_count": 10,
   "id": "7183c541",
   "metadata": {},
   "outputs": [
    {
     "name": "stdout",
     "output_type": "stream",
     "text": [
      " Enter 1st number 56\n",
      " Enter 2nd number 32\n",
      " Answer is  88\n"
     ]
    }
   ],
   "source": [
    "#6#\n",
    "a = int(input(\" Enter 1st number \"));\n",
    "b = int(input(\" Enter 2nd number \"));\n",
    "print (\" Answer is \", a+b )\n"
   ]
  },
  {
   "cell_type": "code",
   "execution_count": 16,
   "id": "68a0c86a",
   "metadata": {},
   "outputs": [
    {
     "name": "stdout",
     "output_type": "stream",
     "text": [
      "English 89\n",
      "Islamiat 86\n",
      "Math   78\n",
      "Chemistry 90\n",
      "Physics  92\n",
      "Your Obtained Marks is 435 out of 500\n",
      "Your Percentage is 87.0\n",
      "Your Grade is A+\n"
     ]
    }
   ],
   "source": [
    "#7#\n",
    "English = int(input(\"English \"));\n",
    "Islamiat = int(input(\"Islamiat \"));\n",
    "Math = int(input(\"Math   \"));\n",
    "Chemistry = int(input(\"Chemistry \"));\n",
    "Physics = int(input(\"Physics  \"));\n",
    "TotalMarks = 500;\n",
    "print(\"Your Obtained Marks is\",English+Islamiat+Math+Chemistry+Physics, \"out of\",TotalMarks)\n",
    "x = English+Islamiat+Math+Chemistry+Physics\n",
    "percent = 100;\n",
    "percentage = x*percent/TotalMarks;\n",
    "print (\"Your Percentage is\", percentage);\n",
    "if percentage  < 100 and percentage > 80:\n",
    "    print(\"Your Grade is A+\");\n",
    "elif percentage  < 80 and percentage > 70:\n",
    "    print(\"Your Grade is A\");\n",
    "elif percentage  < 70 and percentage > 60:\n",
    "    print(\"Your Grade is B\");\n",
    "elif percentage  < 60 and percentage > 50:\n",
    "    print(\"Your Grade is C\");\n",
    "elif percentage  < 50 and percentage > 40:\n",
    "    print(\"Your Grade is D\");\n",
    "elif percentage  < 40 and percentage > 33:\n",
    "    print(\"Your Grade is E\");\n",
    "else: \n",
    "    print(\"You are Fail\")"
   ]
  },
  {
   "cell_type": "code",
   "execution_count": 22,
   "id": "1f80672f",
   "metadata": {},
   "outputs": [
    {
     "name": "stdout",
     "output_type": "stream",
     "text": [
      "56\n",
      "This is an even number.\n"
     ]
    }
   ],
   "source": [
    "#8#\n",
    "a = int(input(\"\"))\n",
    "b = a % 2\n",
    "if b > 0: \n",
    "    print(\"This is an odd number.\")\n",
    "else:\n",
    "    print(\"This is an even number.\")"
   ]
  },
  {
   "cell_type": "code",
   "execution_count": 26,
   "id": "8ef0d7f1",
   "metadata": {},
   "outputs": [
    {
     "name": "stdout",
     "output_type": "stream",
     "text": [
      "The length of the list is  7\n"
     ]
    }
   ],
   "source": [
    "#9#\n",
    "List = len([40,50,60,70,80,90,100])\n",
    "print(\"The length of the list is \", List)"
   ]
  },
  {
   "cell_type": "code",
   "execution_count": 27,
   "id": "804b1803",
   "metadata": {},
   "outputs": [
    {
     "name": "stdout",
     "output_type": "stream",
     "text": [
      "21\n"
     ]
    }
   ],
   "source": [
    "#10#\n",
    "List = [1,2,3,4,5,6]\n",
    "print(sum(List))"
   ]
  },
  {
   "cell_type": "code",
   "execution_count": 33,
   "id": "3527d45a",
   "metadata": {},
   "outputs": [
    {
     "name": "stdout",
     "output_type": "stream",
     "text": [
      "Largest number is: 57\n"
     ]
    }
   ],
   "source": [
    "#11#\n",
    "List = [9,15,23,46,57,29,34,41];\n",
    "print(\"Largest number is:\", max(List))"
   ]
  },
  {
   "cell_type": "code",
   "execution_count": 30,
   "id": "4e661fc0",
   "metadata": {},
   "outputs": [
    {
     "name": "stdout",
     "output_type": "stream",
     "text": [
      "[1, 1, 2, 3]\n"
     ]
    }
   ],
   "source": [
    "#12#\n",
    "a = [1, 1, 2, 3, 5, 8, 13, 21, 34, 55, 89]\n",
    "a1 = a[:4];\n",
    "print(a1)"
   ]
  },
  {
   "cell_type": "code",
   "execution_count": null,
   "id": "72f37e2b",
   "metadata": {},
   "outputs": [],
   "source": []
  }
 ],
 "metadata": {
  "kernelspec": {
   "display_name": "Python 3",
   "language": "python",
   "name": "python3"
  },
  "language_info": {
   "codemirror_mode": {
    "name": "ipython",
    "version": 3
   },
   "file_extension": ".py",
   "mimetype": "text/x-python",
   "name": "python",
   "nbconvert_exporter": "python",
   "pygments_lexer": "ipython3",
   "version": "3.8.8"
  }
 },
 "nbformat": 4,
 "nbformat_minor": 5
}
